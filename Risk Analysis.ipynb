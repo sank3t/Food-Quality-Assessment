{
 "cells": [
  {
   "cell_type": "code",
   "execution_count": 1,
   "metadata": {},
   "outputs": [],
   "source": [
    "import pandas as pd\n",
    "import numpy as np\n",
    "\n",
    "from matplotlib import pyplot as plt\n",
    "import seaborn as sns"
   ]
  },
  {
   "cell_type": "code",
   "execution_count": 2,
   "metadata": {},
   "outputs": [],
   "source": [
    "# Reading the data\n",
    "df_train = pd.read_csv('data/train.csv')\n",
    "df_test = pd.read_csv('data/test.csv')"
   ]
  },
  {
   "cell_type": "code",
   "execution_count": 3,
   "metadata": {},
   "outputs": [
    {
     "data": {
      "text/html": [
       "<div>\n",
       "<style scoped>\n",
       "    .dataframe tbody tr th:only-of-type {\n",
       "        vertical-align: middle;\n",
       "    }\n",
       "\n",
       "    .dataframe tbody tr th {\n",
       "        vertical-align: top;\n",
       "    }\n",
       "\n",
       "    .dataframe thead th {\n",
       "        text-align: right;\n",
       "    }\n",
       "</style>\n",
       "<table border=\"1\" class=\"dataframe\">\n",
       "  <thead>\n",
       "    <tr style=\"text-align: right;\">\n",
       "      <th></th>\n",
       "      <th>ID</th>\n",
       "      <th>Date</th>\n",
       "      <th>LicenseNo</th>\n",
       "      <th>FacilityID</th>\n",
       "      <th>FacilityName</th>\n",
       "      <th>Type</th>\n",
       "      <th>Street</th>\n",
       "      <th>City</th>\n",
       "      <th>State</th>\n",
       "      <th>LocationID</th>\n",
       "      <th>Reason</th>\n",
       "      <th>SectionViolations</th>\n",
       "      <th>RiskLevel</th>\n",
       "      <th>Geo_Loc</th>\n",
       "      <th>Inspection_Results</th>\n",
       "    </tr>\n",
       "  </thead>\n",
       "  <tbody>\n",
       "    <tr>\n",
       "      <td>0</td>\n",
       "      <td>31103489027986</td>\n",
       "      <td>26-04-2010</td>\n",
       "      <td>4744</td>\n",
       "      <td>8123</td>\n",
       "      <td>7715</td>\n",
       "      <td>RESTAURANT</td>\n",
       "      <td>15522</td>\n",
       "      <td>id-11235901</td>\n",
       "      <td>id_1890134</td>\n",
       "      <td>81876.0</td>\n",
       "      <td>CANVASS</td>\n",
       "      <td>33.0</td>\n",
       "      <td>High</td>\n",
       "      <td>locid16406</td>\n",
       "      <td>4</td>\n",
       "    </tr>\n",
       "    <tr>\n",
       "      <td>1</td>\n",
       "      <td>10088999935915</td>\n",
       "      <td>21-06-2009</td>\n",
       "      <td>2973</td>\n",
       "      <td>12268</td>\n",
       "      <td>11664</td>\n",
       "      <td>GROCERY STORE</td>\n",
       "      <td>3057</td>\n",
       "      <td>id-11235901</td>\n",
       "      <td>id_1890134</td>\n",
       "      <td>81862.0</td>\n",
       "      <td>COMPLAINT</td>\n",
       "      <td>33.0</td>\n",
       "      <td>High</td>\n",
       "      <td>locid878</td>\n",
       "      <td>4</td>\n",
       "    </tr>\n",
       "    <tr>\n",
       "      <td>2</td>\n",
       "      <td>40148966010272</td>\n",
       "      <td>01-05-2013</td>\n",
       "      <td>18223</td>\n",
       "      <td>1112</td>\n",
       "      <td>969</td>\n",
       "      <td>RESTAURANT</td>\n",
       "      <td>14988</td>\n",
       "      <td>id-11235901</td>\n",
       "      <td>id_1890134</td>\n",
       "      <td>81883.0</td>\n",
       "      <td>CANVASS</td>\n",
       "      <td>NaN</td>\n",
       "      <td>High</td>\n",
       "      <td>locid3368</td>\n",
       "      <td>6</td>\n",
       "    </tr>\n",
       "    <tr>\n",
       "      <td>3</td>\n",
       "      <td>37157708563676</td>\n",
       "      <td>28-09-2015</td>\n",
       "      <td>20825</td>\n",
       "      <td>20007</td>\n",
       "      <td>19115</td>\n",
       "      <td>RESTAURANT</td>\n",
       "      <td>3661</td>\n",
       "      <td>id-11235901</td>\n",
       "      <td>id_1890134</td>\n",
       "      <td>81859.0</td>\n",
       "      <td>CANVASS RE-INSPECTION</td>\n",
       "      <td>31.0</td>\n",
       "      <td>Medium</td>\n",
       "      <td>locid11839</td>\n",
       "      <td>4</td>\n",
       "    </tr>\n",
       "    <tr>\n",
       "      <td>4</td>\n",
       "      <td>47478049564374</td>\n",
       "      <td>09-12-2015</td>\n",
       "      <td>2136</td>\n",
       "      <td>16867</td>\n",
       "      <td>10409</td>\n",
       "      <td>RESTAURANT</td>\n",
       "      <td>7876</td>\n",
       "      <td>id-11235901</td>\n",
       "      <td>id_1890134</td>\n",
       "      <td>81886.0</td>\n",
       "      <td>COMPLAINT</td>\n",
       "      <td>30.0</td>\n",
       "      <td>High</td>\n",
       "      <td>locid12264</td>\n",
       "      <td>4</td>\n",
       "    </tr>\n",
       "  </tbody>\n",
       "</table>\n",
       "</div>"
      ],
      "text/plain": [
       "               ID        Date  LicenseNo  FacilityID  FacilityName  \\\n",
       "0  31103489027986  26-04-2010       4744        8123          7715   \n",
       "1  10088999935915  21-06-2009       2973       12268         11664   \n",
       "2  40148966010272  01-05-2013      18223        1112           969   \n",
       "3  37157708563676  28-09-2015      20825       20007         19115   \n",
       "4  47478049564374  09-12-2015       2136       16867         10409   \n",
       "\n",
       "            Type  Street         City       State  LocationID  \\\n",
       "0     RESTAURANT   15522  id-11235901  id_1890134     81876.0   \n",
       "1  GROCERY STORE    3057  id-11235901  id_1890134     81862.0   \n",
       "2     RESTAURANT   14988  id-11235901  id_1890134     81883.0   \n",
       "3     RESTAURANT    3661  id-11235901  id_1890134     81859.0   \n",
       "4     RESTAURANT    7876  id-11235901  id_1890134     81886.0   \n",
       "\n",
       "                  Reason  SectionViolations RiskLevel     Geo_Loc  \\\n",
       "0                CANVASS               33.0      High  locid16406   \n",
       "1              COMPLAINT               33.0      High    locid878   \n",
       "2                CANVASS                NaN      High   locid3368   \n",
       "3  CANVASS RE-INSPECTION               31.0    Medium  locid11839   \n",
       "4              COMPLAINT               30.0      High  locid12264   \n",
       "\n",
       "   Inspection_Results  \n",
       "0                   4  \n",
       "1                   4  \n",
       "2                   6  \n",
       "3                   4  \n",
       "4                   4  "
      ]
     },
     "execution_count": 3,
     "metadata": {},
     "output_type": "execute_result"
    }
   ],
   "source": [
    "df_train.head()"
   ]
  },
  {
   "cell_type": "markdown",
   "metadata": {},
   "source": [
    "**Dataset background:** The data is recorded by the inspection team. For preserving the identity, the values in categorical columns `Facility Name`, `City`, `State`, `GeoLoc` are encoded. There might be a case of human error."
   ]
  },
  {
   "cell_type": "code",
   "execution_count": 4,
   "metadata": {
    "scrolled": true
   },
   "outputs": [
    {
     "data": {
      "text/plain": [
       "(147443, 15)"
      ]
     },
     "execution_count": 4,
     "metadata": {},
     "output_type": "execute_result"
    }
   ],
   "source": [
    "df_train.shape"
   ]
  },
  {
   "cell_type": "code",
   "execution_count": 5,
   "metadata": {},
   "outputs": [
    {
     "data": {
      "text/plain": [
       "(49148, 14)"
      ]
     },
     "execution_count": 5,
     "metadata": {},
     "output_type": "execute_result"
    }
   ],
   "source": [
    "df_test.shape"
   ]
  },
  {
   "cell_type": "markdown",
   "metadata": {},
   "source": [
    "#### Checking the cities and states available in training data"
   ]
  },
  {
   "cell_type": "code",
   "execution_count": 6,
   "metadata": {},
   "outputs": [
    {
     "data": {
      "text/plain": [
       "['id-11235901', 'id-11275913']"
      ]
     },
     "execution_count": 6,
     "metadata": {},
     "output_type": "execute_result"
    }
   ],
   "source": [
    "df_train['City'].unique().tolist()"
   ]
  },
  {
   "cell_type": "code",
   "execution_count": 7,
   "metadata": {},
   "outputs": [
    {
     "data": {
      "text/plain": [
       "City         State     \n",
       "id-11235901  id_1890134    147177\n",
       "             id_1890135        19\n",
       "id-11275913  id_1890134       225\n",
       "             id_1890135        22\n",
       "Name: State, dtype: int64"
      ]
     },
     "execution_count": 7,
     "metadata": {},
     "output_type": "execute_result"
    }
   ],
   "source": [
    "df_train.groupby(['City', 'State'])['State'].count()"
   ]
  },
  {
   "cell_type": "markdown",
   "metadata": {},
   "source": [
    "#### Checking the cities available in test data"
   ]
  },
  {
   "cell_type": "code",
   "execution_count": 8,
   "metadata": {},
   "outputs": [
    {
     "data": {
      "text/plain": [
       "['id-11235901', 'id-11275913']"
      ]
     },
     "execution_count": 8,
     "metadata": {},
     "output_type": "execute_result"
    }
   ],
   "source": [
    "df_test['City'].unique().tolist()"
   ]
  },
  {
   "cell_type": "code",
   "execution_count": 9,
   "metadata": {},
   "outputs": [
    {
     "data": {
      "text/plain": [
       "City         State     \n",
       "id-11235901  id_1890134    49057\n",
       "             id_1890135        4\n",
       "id-11275913  id_1890134       87\n",
       "Name: State, dtype: int64"
      ]
     },
     "execution_count": 9,
     "metadata": {},
     "output_type": "execute_result"
    }
   ],
   "source": [
    "df_test.groupby(['City', 'State'])['State'].count()"
   ]
  },
  {
   "cell_type": "markdown",
   "metadata": {},
   "source": [
    "The data is collected from two cities i.e. `id-11235901` and `id-11275913`."
   ]
  },
  {
   "cell_type": "markdown",
   "metadata": {},
   "source": [
    "## EDA"
   ]
  },
  {
   "cell_type": "markdown",
   "metadata": {},
   "source": [
    "### 1. Checking null entries and data type"
   ]
  },
  {
   "cell_type": "code",
   "execution_count": 10,
   "metadata": {},
   "outputs": [
    {
     "name": "stdout",
     "output_type": "stream",
     "text": [
      "<class 'pandas.core.frame.DataFrame'>\n",
      "RangeIndex: 147443 entries, 0 to 147442\n",
      "Data columns (total 15 columns):\n",
      "ID                    147443 non-null int64\n",
      "Date                  147443 non-null object\n",
      "LicenseNo             147443 non-null int64\n",
      "FacilityID            147443 non-null int64\n",
      "FacilityName          147443 non-null int64\n",
      "Type                  143958 non-null object\n",
      "Street                147443 non-null int64\n",
      "City                  147443 non-null object\n",
      "State                 147443 non-null object\n",
      "LocationID            147408 non-null float64\n",
      "Reason                147443 non-null object\n",
      "SectionViolations     108375 non-null float64\n",
      "RiskLevel             147443 non-null object\n",
      "Geo_Loc               147443 non-null object\n",
      "Inspection_Results    147443 non-null int64\n",
      "dtypes: float64(2), int64(6), object(7)\n",
      "memory usage: 16.9+ MB\n"
     ]
    }
   ],
   "source": [
    "df_train.info()"
   ]
  },
  {
   "cell_type": "markdown",
   "metadata": {},
   "source": [
    "**Conclusion:**\n",
    "\n",
    "1. The column `Date` has wrong data type\n",
    "\n",
    "2. Column `Type`, `LocationID`, and `SectionViolations` has missing values"
   ]
  },
  {
   "cell_type": "markdown",
   "metadata": {},
   "source": [
    "#### a. Proceeding with handling the data type of `Date`"
   ]
  },
  {
   "cell_type": "code",
   "execution_count": 11,
   "metadata": {},
   "outputs": [
    {
     "name": "stdout",
     "output_type": "stream",
     "text": [
      "<class 'pandas.core.frame.DataFrame'>\n",
      "RangeIndex: 147443 entries, 0 to 147442\n",
      "Data columns (total 15 columns):\n",
      "ID                    147443 non-null int64\n",
      "Date                  147390 non-null datetime64[ns]\n",
      "LicenseNo             147443 non-null int64\n",
      "FacilityID            147443 non-null int64\n",
      "FacilityName          147443 non-null int64\n",
      "Type                  143958 non-null object\n",
      "Street                147443 non-null int64\n",
      "City                  147443 non-null object\n",
      "State                 147443 non-null object\n",
      "LocationID            147408 non-null float64\n",
      "Reason                147443 non-null object\n",
      "SectionViolations     108375 non-null float64\n",
      "RiskLevel             147443 non-null object\n",
      "Geo_Loc               147443 non-null object\n",
      "Inspection_Results    147443 non-null int64\n",
      "dtypes: datetime64[ns](1), float64(2), int64(6), object(6)\n",
      "memory usage: 16.9+ MB\n"
     ]
    }
   ],
   "source": [
    "temp_df = df_train.copy()\n",
    "temp_df['Date'] = pd.to_datetime(temp_df['Date'], errors='coerce')\n",
    "\n",
    "temp_df.info()"
   ]
  },
  {
   "cell_type": "markdown",
   "metadata": {},
   "source": [
    "In `Date` column some of the values are not converted to **datetime**."
   ]
  },
  {
   "cell_type": "code",
   "execution_count": 12,
   "metadata": {},
   "outputs": [
    {
     "data": {
      "text/html": [
       "<div>\n",
       "<style scoped>\n",
       "    .dataframe tbody tr th:only-of-type {\n",
       "        vertical-align: middle;\n",
       "    }\n",
       "\n",
       "    .dataframe tbody tr th {\n",
       "        vertical-align: top;\n",
       "    }\n",
       "\n",
       "    .dataframe thead th {\n",
       "        text-align: right;\n",
       "    }\n",
       "</style>\n",
       "<table border=\"1\" class=\"dataframe\">\n",
       "  <thead>\n",
       "    <tr style=\"text-align: right;\">\n",
       "      <th></th>\n",
       "      <th>ID</th>\n",
       "      <th>Date</th>\n",
       "      <th>LicenseNo</th>\n",
       "      <th>FacilityID</th>\n",
       "      <th>FacilityName</th>\n",
       "      <th>Type</th>\n",
       "      <th>Street</th>\n",
       "      <th>City</th>\n",
       "      <th>State</th>\n",
       "      <th>LocationID</th>\n",
       "      <th>Reason</th>\n",
       "      <th>SectionViolations</th>\n",
       "      <th>RiskLevel</th>\n",
       "      <th>Geo_Loc</th>\n",
       "      <th>Inspection_Results</th>\n",
       "    </tr>\n",
       "  </thead>\n",
       "  <tbody>\n",
       "    <tr>\n",
       "      <td>2834</td>\n",
       "      <td>14542503087757</td>\n",
       "      <td>NaT</td>\n",
       "      <td>22783</td>\n",
       "      <td>5173</td>\n",
       "      <td>4932</td>\n",
       "      <td>DAYCARE (2 - 6 YEARS)</td>\n",
       "      <td>15570</td>\n",
       "      <td>id-11235901</td>\n",
       "      <td>id_1890134</td>\n",
       "      <td>81871.0</td>\n",
       "      <td>CANVASS</td>\n",
       "      <td>32.0</td>\n",
       "      <td>High</td>\n",
       "      <td>locid16453</td>\n",
       "      <td>4</td>\n",
       "    </tr>\n",
       "    <tr>\n",
       "      <td>6570</td>\n",
       "      <td>13144807998644</td>\n",
       "      <td>NaT</td>\n",
       "      <td>245</td>\n",
       "      <td>14302</td>\n",
       "      <td>13616</td>\n",
       "      <td>RESTAURANT</td>\n",
       "      <td>6693</td>\n",
       "      <td>id-11235901</td>\n",
       "      <td>id_1890134</td>\n",
       "      <td>81867.0</td>\n",
       "      <td>COMPLAINT RE-INSPECTION</td>\n",
       "      <td>NaN</td>\n",
       "      <td>High</td>\n",
       "      <td>locid9396</td>\n",
       "      <td>4</td>\n",
       "    </tr>\n",
       "    <tr>\n",
       "      <td>7261</td>\n",
       "      <td>14265186052801</td>\n",
       "      <td>NaT</td>\n",
       "      <td>35745</td>\n",
       "      <td>26486</td>\n",
       "      <td>25275</td>\n",
       "      <td>RESTAURANT</td>\n",
       "      <td>17061</td>\n",
       "      <td>id-11235901</td>\n",
       "      <td>id_1890134</td>\n",
       "      <td>81865.0</td>\n",
       "      <td>COMPLAINT</td>\n",
       "      <td>2.0</td>\n",
       "      <td>Medium</td>\n",
       "      <td>locid1366</td>\n",
       "      <td>5</td>\n",
       "    </tr>\n",
       "    <tr>\n",
       "      <td>7815</td>\n",
       "      <td>45339938455788</td>\n",
       "      <td>NaT</td>\n",
       "      <td>3991</td>\n",
       "      <td>17567</td>\n",
       "      <td>16781</td>\n",
       "      <td>RESTAURANT</td>\n",
       "      <td>16145</td>\n",
       "      <td>id-11235901</td>\n",
       "      <td>id_1890134</td>\n",
       "      <td>81876.0</td>\n",
       "      <td>CANVASS RE-INSPECTION</td>\n",
       "      <td>10.0</td>\n",
       "      <td>High</td>\n",
       "      <td>locid16661</td>\n",
       "      <td>1</td>\n",
       "    </tr>\n",
       "    <tr>\n",
       "      <td>8692</td>\n",
       "      <td>19021475613488</td>\n",
       "      <td>NaT</td>\n",
       "      <td>16056</td>\n",
       "      <td>5929</td>\n",
       "      <td>5670</td>\n",
       "      <td>RESTAURANT</td>\n",
       "      <td>13005</td>\n",
       "      <td>id-11235901</td>\n",
       "      <td>id_1890134</td>\n",
       "      <td>81875.0</td>\n",
       "      <td>LICENSE RE-INSPECTION</td>\n",
       "      <td>NaN</td>\n",
       "      <td>Low</td>\n",
       "      <td>locid14611</td>\n",
       "      <td>4</td>\n",
       "    </tr>\n",
       "  </tbody>\n",
       "</table>\n",
       "</div>"
      ],
      "text/plain": [
       "                  ID Date  LicenseNo  FacilityID  FacilityName  \\\n",
       "2834  14542503087757  NaT      22783        5173          4932   \n",
       "6570  13144807998644  NaT        245       14302         13616   \n",
       "7261  14265186052801  NaT      35745       26486         25275   \n",
       "7815  45339938455788  NaT       3991       17567         16781   \n",
       "8692  19021475613488  NaT      16056        5929          5670   \n",
       "\n",
       "                       Type  Street         City       State  LocationID  \\\n",
       "2834  DAYCARE (2 - 6 YEARS)   15570  id-11235901  id_1890134     81871.0   \n",
       "6570             RESTAURANT    6693  id-11235901  id_1890134     81867.0   \n",
       "7261             RESTAURANT   17061  id-11235901  id_1890134     81865.0   \n",
       "7815             RESTAURANT   16145  id-11235901  id_1890134     81876.0   \n",
       "8692             RESTAURANT   13005  id-11235901  id_1890134     81875.0   \n",
       "\n",
       "                       Reason  SectionViolations RiskLevel     Geo_Loc  \\\n",
       "2834                  CANVASS               32.0      High  locid16453   \n",
       "6570  COMPLAINT RE-INSPECTION                NaN      High   locid9396   \n",
       "7261                COMPLAINT                2.0    Medium   locid1366   \n",
       "7815    CANVASS RE-INSPECTION               10.0      High  locid16661   \n",
       "8692    LICENSE RE-INSPECTION                NaN       Low  locid14611   \n",
       "\n",
       "      Inspection_Results  \n",
       "2834                   4  \n",
       "6570                   4  \n",
       "7261                   5  \n",
       "7815                   1  \n",
       "8692                   4  "
      ]
     },
     "execution_count": 12,
     "metadata": {},
     "output_type": "execute_result"
    }
   ],
   "source": [
    "temp_df[temp_df['Date'].isna()].head()"
   ]
  },
  {
   "cell_type": "markdown",
   "metadata": {},
   "source": [
    "Some values are not converted to the respective date.\n",
    "\n",
    "*One of the reason can be the invalid date was entered by the inspection team while storing the data.*"
   ]
  },
  {
   "cell_type": "code",
   "execution_count": 13,
   "metadata": {},
   "outputs": [
    {
     "data": {
      "text/plain": [
       "array(['29-02-2011', '29-02-2015'], dtype=object)"
      ]
     },
     "execution_count": 13,
     "metadata": {},
     "output_type": "execute_result"
    }
   ],
   "source": [
    "nat_indices = temp_df[temp_df['Date'].isna()].index\n",
    "\n",
    "del temp_df\n",
    "\n",
    "df_train.loc[nat_indices, 'Date'].unique()"
   ]
  },
  {
   "cell_type": "code",
   "execution_count": 14,
   "metadata": {},
   "outputs": [],
   "source": [
    "# Replacing the above dates by valid date\n",
    "df_train['Date'] = df_train['Date'].str.replace('29-02-2011', '28-02-2011')\n",
    "df_train['Date'] = df_train['Date'].str.replace('29-02-2015', '28-02-2015')\n",
    "\n",
    "df_train['Date'] = pd.to_datetime(df_train['Date'])"
   ]
  },
  {
   "cell_type": "code",
   "execution_count": 15,
   "metadata": {},
   "outputs": [
    {
     "name": "stdout",
     "output_type": "stream",
     "text": [
      "<class 'pandas.core.frame.DataFrame'>\n",
      "RangeIndex: 147443 entries, 0 to 147442\n",
      "Data columns (total 15 columns):\n",
      "ID                    147443 non-null int64\n",
      "Date                  147443 non-null datetime64[ns]\n",
      "LicenseNo             147443 non-null int64\n",
      "FacilityID            147443 non-null int64\n",
      "FacilityName          147443 non-null int64\n",
      "Type                  143958 non-null object\n",
      "Street                147443 non-null int64\n",
      "City                  147443 non-null object\n",
      "State                 147443 non-null object\n",
      "LocationID            147408 non-null float64\n",
      "Reason                147443 non-null object\n",
      "SectionViolations     108375 non-null float64\n",
      "RiskLevel             147443 non-null object\n",
      "Geo_Loc               147443 non-null object\n",
      "Inspection_Results    147443 non-null int64\n",
      "dtypes: datetime64[ns](1), float64(2), int64(6), object(6)\n",
      "memory usage: 16.9+ MB\n"
     ]
    }
   ],
   "source": [
    "df_train.info()"
   ]
  },
  {
   "cell_type": "markdown",
   "metadata": {},
   "source": [
    "#### Sorting the dataframe by `Date` for analysis"
   ]
  },
  {
   "cell_type": "code",
   "execution_count": 16,
   "metadata": {},
   "outputs": [],
   "source": [
    "df_train = df_train.sort_values(by='Date')\n",
    "\n",
    "df_train = df_train.reset_index(drop=True)"
   ]
  },
  {
   "cell_type": "markdown",
   "metadata": {},
   "source": [
    "### 2. Checking columns to drop"
   ]
  },
  {
   "cell_type": "code",
   "execution_count": 17,
   "metadata": {},
   "outputs": [
    {
     "name": "stdout",
     "output_type": "stream",
     "text": [
      "ID 147443\n",
      "Date 2506\n",
      "LicenseNo 34384\n",
      "FacilityID 25535\n",
      "FacilityName 24348\n",
      "Type 409\n",
      "Street 17290\n",
      "City 2\n",
      "State 2\n",
      "LocationID 104\n",
      "Reason 17\n",
      "SectionViolations 61\n",
      "RiskLevel 4\n",
      "Geo_Loc 16316\n",
      "Inspection_Results 7\n"
     ]
    }
   ],
   "source": [
    "for col in df_train.columns:\n",
    "    print(col, df_train[col].nunique())"
   ]
  },
  {
   "cell_type": "code",
   "execution_count": 18,
   "metadata": {},
   "outputs": [],
   "source": [
    "df_train = df_train.drop(columns=['ID'], errors='ignore')"
   ]
  }
 ],
 "metadata": {
  "kernelspec": {
   "display_name": "Python 3",
   "language": "python",
   "name": "python3"
  },
  "language_info": {
   "codemirror_mode": {
    "name": "ipython",
    "version": 3
   },
   "file_extension": ".py",
   "mimetype": "text/x-python",
   "name": "python",
   "nbconvert_exporter": "python",
   "pygments_lexer": "ipython3",
   "version": "3.6.9"
  }
 },
 "nbformat": 4,
 "nbformat_minor": 2
}
